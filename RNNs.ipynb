{
  "nbformat": 4,
  "nbformat_minor": 0,
  "metadata": {
    "colab": {
      "provenance": []
    },
    "kernelspec": {
      "name": "python3",
      "display_name": "Python 3"
    },
    "language_info": {
      "name": "python"
    }
  },
  "cells": [
    {
      "cell_type": "markdown",
      "source": [
        "# 1. Introduction to RNNs\n",
        "# -----------------------------------------\n",
        "\n",
        "Recurrent Neural Networks (RNNs) are a class of neural networks designed to recognize patterns in sequences of data, such as time series, text, genomes, handwriting, or the spoken word.\n",
        "\n",
        "### How RNNs Work\n",
        "RNNs have a \"memory\" that captures information about what has been calculated so far. They have loops within the network that allow information to persist.\n",
        "\n",
        "### Applications of RNNs\n",
        "- Natural Language Processing (NLP)\n",
        "- Time Series Forecasting\n",
        "- Speech Recognition\n",
        "- Video Processing\n"
      ],
      "metadata": {
        "id": "aygqbbwj2lS0"
      }
    },
    {
      "cell_type": "markdown",
      "source": [
        "# 2. Architecture of RNNs\n",
        "# -----------------------------------------\n",
        "\"\"\"\n",
        "### RNN Cells\n",
        "RNNs are composed of RNN cells. Each cell takes an input vector and the hidden state vector from the previous time step, and produces an output vector and a new hidden state vector.\n",
        "\n",
        "### Unfolding an RNN\n",
        "An RNN can be unfolded over time steps to visualize how it processes a sequence. At each time step, the cell receives an input and the hidden state from the previous time step.\n",
        "\n",
        "### Vanishing Gradient Problem\n",
        "RNNs can suffer from the vanishing gradient problem, where gradients become very small, slowing down learning and making it hard to capture long-term dependencies.\n",
        "\"\"\""
      ],
      "metadata": {
        "id": "S0gT2bl72tzh"
      }
    },
    {
      "cell_type": "markdown",
      "source": [],
      "metadata": {
        "id": "YfHyFwlK2wZi"
      }
    },
    {
      "cell_type": "code",
      "execution_count": 6,
      "metadata": {
        "id": "RznYz9zE2UXd"
      },
      "outputs": [],
      "source": [
        "import numpy as np\n",
        "import matplotlib.pyplot as plt\n",
        "import torch\n",
        "import torch.nn as nn\n",
        "import torch.optim as optim\n",
        "from torch.utils.data import DataLoader, Dataset\n",
        "from sklearn.preprocessing import MinMaxScaler"
      ]
    },
    {
      "cell_type": "code",
      "source": [
        "torch.manual_seed(42)"
      ],
      "metadata": {
        "colab": {
          "base_uri": "https://localhost:8080/"
        },
        "id": "kjJUpzxo3Jgq",
        "outputId": "8e1a0d97-e5a6-4829-a17a-68d510a4e8b9"
      },
      "execution_count": 7,
      "outputs": [
        {
          "output_type": "execute_result",
          "data": {
            "text/plain": [
              "<torch._C.Generator at 0x7a5f1abc15d0>"
            ]
          },
          "metadata": {},
          "execution_count": 7
        }
      ]
    },
    {
      "cell_type": "code",
      "source": [
        "# Define a simple RNN cell\n",
        "class SimpleRNNCell(nn.Module):\n",
        "    def __init__(self, input_size, hidden_size):\n",
        "        super(SimpleRNNCell, self).__init__()\n",
        "        self.input_size = input_size\n",
        "        self.hidden_size = hidden_size\n",
        "        self.i2h = nn.Linear(input_size, hidden_size)\n",
        "        self.h2h = nn.Linear(hidden_size, hidden_size)\n",
        "        self.activation = nn.Tanh()\n",
        "\n",
        "    def forward(self, x, hidden):\n",
        "        hidden = self.activation(self.i2h(x) + self.h2h(hidden))\n",
        "        return hidden"
      ],
      "metadata": {
        "id": "ZwDH2f3g2fWJ"
      },
      "execution_count": 8,
      "outputs": []
    },
    {
      "cell_type": "code",
      "source": [
        "# Create a simple RNN sequence\n",
        "input_size = 1\n",
        "hidden_size = 5\n",
        "seq_length = 10\n"
      ],
      "metadata": {
        "id": "lNVNfU_S207y"
      },
      "execution_count": 9,
      "outputs": []
    },
    {
      "cell_type": "code",
      "source": [
        "rnn_cell = SimpleRNNCell(input_size, hidden_size)\n",
        "hidden_state = torch.zeros(hidden_size)"
      ],
      "metadata": {
        "id": "f70qzGQt26a2"
      },
      "execution_count": 10,
      "outputs": []
    },
    {
      "cell_type": "code",
      "source": [
        "sequence_length = 5\n",
        "x_seq = [np.random.randn(input_size, 1) for _ in range(sequence_length)]\n",
        "h_prev = np.zeros((hidden_size, 1))"
      ],
      "metadata": {
        "id": "WfDpYnAM2-qJ"
      },
      "execution_count": 5,
      "outputs": []
    },
    {
      "cell_type": "code",
      "source": [
        "inputs = torch.randn(seq_length, input_size)\n",
        "\n",
        "for i, input_t in enumerate(inputs):\n",
        "    hidden_state = rnn_cell(input_t, hidden_state)\n",
        "    print(f\"Time step {i+1}: {hidden_state}\")"
      ],
      "metadata": {
        "colab": {
          "base_uri": "https://localhost:8080/"
        },
        "id": "uIQrf0fK3BYO",
        "outputId": "5b83d8d5-25ee-4234-a577-60f14409c902"
      },
      "execution_count": 11,
      "outputs": [
        {
          "output_type": "stream",
          "name": "stdout",
          "text": [
            "Time step 1: tensor([ 0.9073,  0.6078,  0.5593,  0.9744, -0.8246], grad_fn=<TanhBackward0>)\n",
            "Time step 2: tensor([ 0.9000,  0.0443,  0.7809,  0.9141, -0.4654], grad_fn=<TanhBackward0>)\n",
            "Time step 3: tensor([ 0.6607, -0.7273,  0.8115,  0.4401, -0.0509], grad_fn=<TanhBackward0>)\n",
            "Time step 4: tensor([ 0.9163, -0.0936,  0.5820,  0.8935, -0.1833], grad_fn=<TanhBackward0>)\n",
            "Time step 5: tensor([ 0.8479, -0.4158,  0.7272,  0.7505, -0.2323], grad_fn=<TanhBackward0>)\n",
            "Time step 6: tensor([ 0.7824, -0.6060,  0.7421,  0.6632, -0.0459], grad_fn=<TanhBackward0>)\n",
            "Time step 7: tensor([ 0.8868, -0.3241,  0.6497,  0.8257, -0.1300], grad_fn=<TanhBackward0>)\n",
            "Time step 8: tensor([ 0.6911, -0.7292,  0.7664,  0.4519, -0.0365], grad_fn=<TanhBackward0>)\n",
            "Time step 9: tensor([ 0.7261, -0.6649,  0.6983,  0.5805, -0.0040], grad_fn=<TanhBackward0>)\n",
            "Time step 10: tensor([ 0.8792, -0.3193,  0.6395,  0.8296, -0.1580], grad_fn=<TanhBackward0>)\n"
          ]
        }
      ]
    },
    {
      "cell_type": "code",
      "source": [
        "# Generating a sine wave dataset\n",
        "def generate_sine_wave(seq_length, num_samples):\n",
        "    x = np.linspace(0, 2 * np.pi, seq_length)\n",
        "    data = np.sin(x)\n",
        "    data = np.tile(data, (num_samples, 1))\n",
        "    return data"
      ],
      "metadata": {
        "id": "g25GlQko3eIG"
      },
      "execution_count": 12,
      "outputs": []
    },
    {
      "cell_type": "code",
      "source": [
        "seq_length = 50\n",
        "num_samples = 1000\n",
        "data = generate_sine_wave(seq_length, num_samples)"
      ],
      "metadata": {
        "id": "7kcqeru23itu"
      },
      "execution_count": 13,
      "outputs": []
    },
    {
      "cell_type": "code",
      "source": [
        "# Normalize the data\n",
        "scaler = MinMaxScaler(feature_range=(-1, 1))\n",
        "data = scaler.fit_transform(data)"
      ],
      "metadata": {
        "id": "qKajOuH13mVB"
      },
      "execution_count": 14,
      "outputs": []
    },
    {
      "cell_type": "code",
      "source": [
        "data = torch.FloatTensor(data)"
      ],
      "metadata": {
        "id": "xhUQJwD-3ppu"
      },
      "execution_count": 15,
      "outputs": []
    },
    {
      "cell_type": "code",
      "source": [
        "class SineWaveDataset(Dataset):\n",
        "    def __init__(self, data, seq_length):\n",
        "        self.data = data\n",
        "        self.seq_length = seq_length\n",
        "\n",
        "    def __len__(self):\n",
        "        return len(self.data) - self.seq_length\n",
        "\n",
        "    def __getitem__(self, index):\n",
        "        x = self.data[index:index + self.seq_length]\n",
        "        y = self.data[index + 1:index + self.seq_length + 1]\n",
        "        return x, y"
      ],
      "metadata": {
        "id": "-BJjoxjI3sSG"
      },
      "execution_count": 16,
      "outputs": []
    },
    {
      "cell_type": "code",
      "source": [
        "dataset = SineWaveDataset(data, seq_length)\n",
        "dataloader = DataLoader(dataset, batch_size=32, shuffle=True)"
      ],
      "metadata": {
        "id": "3J3vM8jP3vW3"
      },
      "execution_count": 17,
      "outputs": []
    },
    {
      "cell_type": "code",
      "source": [
        "class RNN(nn.Module):\n",
        "    def __init__(self, input_size, hidden_size, output_size):\n",
        "        super(RNN, self).__init__()\n",
        "        self.rnn = nn.RNN(input_size, hidden_size, batch_first=True)\n",
        "        self.fc = nn.Linear(hidden_size, output_size)\n",
        "\n",
        "    def forward(self, x):\n",
        "        out, hidden = self.rnn(x)\n",
        "        out = self.fc(out)\n",
        "        return out"
      ],
      "metadata": {
        "id": "WoTf94x_3zWj"
      },
      "execution_count": 18,
      "outputs": []
    },
    {
      "cell_type": "code",
      "source": [
        "input_size = 1\n",
        "hidden_size = 32\n",
        "output_size = 1"
      ],
      "metadata": {
        "id": "Y-ffunfL313L"
      },
      "execution_count": 19,
      "outputs": []
    },
    {
      "cell_type": "code",
      "source": [
        "model = RNN(input_size, hidden_size, output_size)\n",
        "criterion = nn.MSELoss()\n",
        "optimizer = optim.Adam(model.parameters(), lr=0.001)\n"
      ],
      "metadata": {
        "id": "1e_MjjSs35ZV"
      },
      "execution_count": 21,
      "outputs": []
    },
    {
      "cell_type": "code",
      "source": [
        "num_epochs = 50\n",
        "\n",
        "for epoch in range(num_epochs):\n",
        "    for inputs, targets in dataloader:\n",
        "        inputs = inputs.view(-1, seq_length, input_size)\n",
        "        targets = targets.view(-1, seq_length, output_size)\n",
        "\n",
        "        # Forward pass\n",
        "        outputs = model(inputs)\n",
        "        loss = criterion(outputs, targets)\n",
        "\n",
        "        # Backward pass and optimization\n",
        "        optimizer.zero_grad()\n",
        "        loss.backward()\n",
        "        optimizer.step()\n",
        "\n",
        "    print(f\"Epoch [{epoch+1}/{num_epochs}], Loss: {loss.item():.4f}\")"
      ],
      "metadata": {
        "colab": {
          "base_uri": "https://localhost:8080/"
        },
        "id": "s1Mm_Lxw38fq",
        "outputId": "81effbc4-d7b9-49b7-c55c-7e884d22c872"
      },
      "execution_count": 22,
      "outputs": [
        {
          "output_type": "stream",
          "name": "stdout",
          "text": [
            "Epoch [1/50], Loss: 0.0532\n",
            "Epoch [2/50], Loss: 0.0206\n",
            "Epoch [3/50], Loss: 0.0174\n",
            "Epoch [4/50], Loss: 0.0153\n",
            "Epoch [5/50], Loss: 0.0134\n",
            "Epoch [6/50], Loss: 0.0117\n",
            "Epoch [7/50], Loss: 0.0102\n",
            "Epoch [8/50], Loss: 0.0088\n",
            "Epoch [9/50], Loss: 0.0077\n",
            "Epoch [10/50], Loss: 0.0067\n",
            "Epoch [11/50], Loss: 0.0059\n",
            "Epoch [12/50], Loss: 0.0051\n",
            "Epoch [13/50], Loss: 0.0045\n",
            "Epoch [14/50], Loss: 0.0039\n",
            "Epoch [15/50], Loss: 0.0035\n",
            "Epoch [16/50], Loss: 0.0030\n",
            "Epoch [17/50], Loss: 0.0026\n",
            "Epoch [18/50], Loss: 0.0023\n",
            "Epoch [19/50], Loss: 0.0020\n",
            "Epoch [20/50], Loss: 0.0017\n",
            "Epoch [21/50], Loss: 0.0015\n",
            "Epoch [22/50], Loss: 0.0013\n",
            "Epoch [23/50], Loss: 0.0011\n",
            "Epoch [24/50], Loss: 0.0009\n",
            "Epoch [25/50], Loss: 0.0008\n",
            "Epoch [26/50], Loss: 0.0007\n",
            "Epoch [27/50], Loss: 0.0005\n",
            "Epoch [28/50], Loss: 0.0004\n",
            "Epoch [29/50], Loss: 0.0004\n",
            "Epoch [30/50], Loss: 0.0003\n",
            "Epoch [31/50], Loss: 0.0002\n",
            "Epoch [32/50], Loss: 0.0002\n",
            "Epoch [33/50], Loss: 0.0002\n",
            "Epoch [34/50], Loss: 0.0001\n",
            "Epoch [35/50], Loss: 0.0001\n",
            "Epoch [36/50], Loss: 0.0001\n",
            "Epoch [37/50], Loss: 0.0001\n",
            "Epoch [38/50], Loss: 0.0000\n",
            "Epoch [39/50], Loss: 0.0000\n",
            "Epoch [40/50], Loss: 0.0000\n",
            "Epoch [41/50], Loss: 0.0000\n",
            "Epoch [42/50], Loss: 0.0000\n",
            "Epoch [43/50], Loss: 0.0000\n",
            "Epoch [44/50], Loss: 0.0000\n",
            "Epoch [45/50], Loss: 0.0000\n",
            "Epoch [46/50], Loss: 0.0000\n",
            "Epoch [47/50], Loss: 0.0000\n",
            "Epoch [48/50], Loss: 0.0000\n",
            "Epoch [49/50], Loss: 0.0000\n",
            "Epoch [50/50], Loss: 0.0000\n"
          ]
        }
      ]
    },
    {
      "cell_type": "code",
      "source": [
        "# Save the trained RNN model\n",
        "model_path = 'rnn_model.pth'\n",
        "torch.save(model.state_dict(), model_path)\n",
        "print(f\"Model saved to {model_path}\")\n"
      ],
      "metadata": {
        "colab": {
          "base_uri": "https://localhost:8080/"
        },
        "id": "MkxsRS6s4E1h",
        "outputId": "602f7bd3-3ddc-4bdd-c128-68b23770d725"
      },
      "execution_count": 23,
      "outputs": [
        {
          "output_type": "stream",
          "name": "stdout",
          "text": [
            "Model saved to rnn_model.pth\n"
          ]
        }
      ]
    },
    {
      "cell_type": "code",
      "source": [],
      "metadata": {
        "id": "U_FIufuJ5OXk"
      },
      "execution_count": null,
      "outputs": []
    }
  ]
}